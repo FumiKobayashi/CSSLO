{
 "cells": [
  {
   "attachments": {},
   "cell_type": "markdown",
   "metadata": {},
   "source": [
    "# Kernel Search Algorithm\n",
    "\n",
    "The Kernel Search Algorithm allows users to search for a diagonal XP operator which has a target logical action:\n",
    "\n",
    "**Input:** \n",
    "- The X-checks $S_X$ and X-logicals $L_X$ of a CSS code;\n",
    "- A target logical action expressed in text form - for example $\\texttt{CZ[1,2]}, \\texttt{S[1]}$ or $\\texttt{CCZ[0,1,2]}$. \n",
    "    \n",
    "**Output:** An implementation of a logical $B$ operator with the target action made from level $t$ phase gates, or FALSE if this is not possible\n"
   ]
  },
  {
   "cell_type": "code",
   "execution_count": 1,
   "metadata": {},
   "outputs": [
    {
     "name": "stdout",
     "output_type": "stream",
     "text": [
      "Kernel Search: CZ[1,2]\n",
      "operator:  S[1][7] S3[3][5]\n",
      "XP Form: XP_8(0|0|02060602)\n",
      "action:  CZ[1,2]\n"
     ]
    }
   ],
   "source": [
    "from add_parent_dir import *\n",
    "from common import *\n",
    "from NSpace import *\n",
    "from XCP_algebra import *\n",
    "from clifford_LO import *\n",
    "import itertools as iter\n",
    "\n",
    "########################################################\n",
    "## default values\n",
    "########################################################\n",
    "SX,LX,SZ,LZ = None,None,None,None\n",
    "t = 2\n",
    "target=None\n",
    "\n",
    "########################################################\n",
    "## Hypercube codes\n",
    "########################################################\n",
    "t = 3\n",
    "SX, LX = Hypercube(t)\n",
    "target = 'CZ[1,2]'\n",
    "# target = 'S[1]'\n",
    "# target = 'CCZ[0,1,2]'\n",
    "\n",
    "\n",
    "########################################################\n",
    "## Reed Muller Codes on 2^{t+1}-1 qubits\n",
    "## Logical P operator at level t\n",
    "########################################################\n",
    "# t=3\n",
    "# SX, LX = ReedMuller(t+1)\n",
    "# target = 'Z[0]'\n",
    "# target = 'S[0]'\n",
    "# target = 'T[0]'\n",
    "# target = 'T5[0]'\n",
    "\n",
    "########################################################\n",
    "## [[4,2,2]] code\n",
    "## Single qubit CZ\n",
    "## Multi-qubit S0S1\n",
    "########################################################\n",
    "# SZ = '1111'\n",
    "# SX = '1111'\n",
    "# target = 'S[0]S[1]'\n",
    "# target = 'CZ[0,1]'\n",
    "\n",
    "\n",
    "########################################################\n",
    "## 2D toric Code\n",
    "## Z0, Z1\n",
    "########################################################\n",
    "# SX, SZ = toric2D(3)\n",
    "# target = 'Z[0]'\n",
    "# target = 'S[0]S3[1]'\n",
    "\n",
    "########################################################\n",
    "## Codetables code \n",
    "########################################################\n",
    "\n",
    "## paste into mystr from codetables.de website\n",
    "## examples\n",
    "\n",
    "## Steane Code\n",
    "# mystr = '''      [1 0 0 1 0 1 1|0 0 0 0 0 0 0]\n",
    "#       [0 1 0 1 1 1 0|0 0 0 0 0 0 0]\n",
    "#       [0 0 1 0 1 1 1|0 0 0 0 0 0 0]\n",
    "#       [0 0 0 0 0 0 0|1 0 0 1 0 1 1]\n",
    "#       [0 0 0 0 0 0 0|0 1 0 1 1 1 0]\n",
    "#       [0 0 0 0 0 0 0|0 0 1 0 1 1 1]'''\n",
    "\n",
    "# target = 'S[0]'\n",
    "# SX,SZ,SXZ = CodeTable(mystr)\n",
    "\n",
    "###########################################################\n",
    "###########################################################\n",
    "\n",
    "Eq, SX,LX,SZ,LZ = CSSCode(SX,LX,SZ,LZ)\n",
    "\n",
    "r,n = np.shape(SX)\n",
    "k,n = np.shape(LX)\n",
    "N = 1 << t\n",
    "\n",
    "compact = n > 15\n",
    "\n",
    "if target is not None:\n",
    "    print(f'Kernel Search: {target}')\n",
    "    z = ker_search(target,Eq,LX,SX,t,debug=True)"
   ]
  }
 ],
 "metadata": {
  "kernelspec": {
   "display_name": "Python 3",
   "language": "python",
   "name": "python3"
  },
  "language_info": {
   "codemirror_mode": {
    "name": "ipython",
    "version": 3
   },
   "file_extension": ".py",
   "mimetype": "text/x-python",
   "name": "python",
   "nbconvert_exporter": "python",
   "pygments_lexer": "ipython3",
   "version": "3.10.4"
  },
  "orig_nbformat": 4,
  "vscode": {
   "interpreter": {
    "hash": "2457cb1fc7fe65b67a8bfa8297ae36ac15699474b7b28a44eb2505adebb15336"
   }
  }
 },
 "nbformat": 4,
 "nbformat_minor": 2
}
