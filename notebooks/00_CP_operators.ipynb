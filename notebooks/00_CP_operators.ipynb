{
 "cells": [
  {
   "attachments": {},
   "cell_type": "markdown",
   "metadata": {},
   "source": [
    "# Controlled Phase and Phase Rotation Operators\n",
    "\n",
    "This notebook illustrates algebra of controlled phase (CP) and phase rotation (RP) Operators.\n",
    "\n",
    "## Fundamental Commutation Relation for CP Operators\n",
    "\n",
    "As an illustration of the fundamental commutation relation for CP operators, we show how to conjugate controlled phase operators by strings of X operators and vice versa. \n",
    "\n",
    "We first compute $\\text{CS}_{01}X_1\\text{CS}_{01}^{-1}$:"
   ]
  },
  {
   "cell_type": "code",
   "execution_count": 18,
   "metadata": {},
   "outputs": [
    {
     "name": "stdout",
     "output_type": "stream",
     "text": [
      "\n",
      "Example 1: conjugate X_1 by CS_01\n",
      " CS[0,1]  X[1] I  CS3[0,1] =  X[1] S[0] CZ[0,1]\n"
     ]
    }
   ],
   "source": [
    "from add_parent_dir import *\n",
    "import numpy as np\n",
    "from common import * \n",
    "from XCP_algebra import *\n",
    "\n",
    "# level of Clifford hierarchy\n",
    "t = 3\n",
    "# precision of operators\n",
    "N = 1 << t\n",
    "# number of qubits\n",
    "n = 4\n",
    "\n",
    "print('\\nExample 1: conjugate X_1 by CS_01')\n",
    "CS, V, t = Str2CP('CS[0,1]',n,t)\n",
    "X1, V, t = Str2CP('X[1]',n,t)\n",
    "CS3, V, t = Str2CP('CS3[0,1]',n,t)\n",
    "C = XCPMul(XCPMul(CS,X1, V, N), CS3, V, N) \n",
    "print(XCP2Str(CS,V,N), XCP2Str(X1,V,N), XCP2Str(CS3,V,N), '=',  XCP2Str(C,V,N))\n",
    "\n"
   ]
  },
  {
   "attachments": {},
   "cell_type": "markdown",
   "metadata": {},
   "source": [
    "We now compute $(X_0X_1X_2) \\text{CCZ}_{012} (X_0X_1X_2)^{-1}$. Using  $\\mathbf{x} = \\mathbf{v} = 111$, letting $\\mathbf{w} := \\mathbf{u} \\oplus \\mathbf{v}$:"
   ]
  },
  {
   "cell_type": "code",
   "execution_count": 19,
   "metadata": {},
   "outputs": [
    {
     "name": "stdout",
     "output_type": "stream",
     "text": [
      "\n",
      "Example 2: conjugate CCZ by X_012\n",
      " X[0][1][2] I  CCZ[0,1,2]  X[0][1][2] I = w1/2 Z[0][1][2] CZ[0,1][0,2][1,2] CCZ[0,1,2]\n"
     ]
    }
   ],
   "source": [
    "\n",
    "print('\\nExample 2: conjugate CCZ by X_012')\n",
    "CCZ, V, t = Str2CP('CCZ[0,1,2]',n,t)\n",
    "X012, V, t = Str2CP('X[0][1][2]',n,t)\n",
    "C = XCPMul(XCPMul(X012,CCZ, V, N), X012, V, N) \n",
    "print(XCP2Str(X012,V,N), XCP2Str(CCZ,V,N), XCP2Str(X012,V,N), '=',  XCP2Str(C,V,N))"
   ]
  },
  {
   "attachments": {},
   "cell_type": "markdown",
   "metadata": {},
   "source": [
    "## Duality of RP and CP Operators\n",
    "The code below illustrates the application of the duality result for RP and CP Operators. This result allows us to find the RP representation of a CP operator and vice versa.\n",
    "\n",
    "We also show that an RP operator can have more than one representation.\n",
    "\n",
    "The user can check the operation of the algorithm by entering any RP operator and converting it to a CP operator and back again."
   ]
  },
  {
   "cell_type": "code",
   "execution_count": 20,
   "metadata": {},
   "outputs": [
    {
     "name": "stdout",
     "output_type": "stream",
     "text": [
      "\n",
      "Test Duality Result\n",
      "RP form:  RS[0,1]\n",
      "CP form:  S[0][1] CZ[0,1]\n",
      "RP form:  Z[0][1] RS3[0,1]\n",
      "CP form:  S[0][1] CZ[0,1]\n",
      "RP form:  Z[0][1] RS3[0,1]\n"
     ]
    }
   ],
   "source": [
    "\n",
    "print('\\nTest Duality Result')\n",
    "mystr = 'RS[0,1]'\n",
    "# mystr = 'RS3[3,28][3,29][3,30][3,31][7,28][7,29][7,30][7,31][11,28][11,29][11,30][11,31][15,28][15,29][15,30][15,31]'\n",
    "# mystr =     'S3[29] S[0][1][2][3][4][5][6][7][8][9][10][11][12][13][14][15][16][17][18][19][20][21][22][23][24][25][26][27][28] RS3[25,27][26,28] RS[2,3][5,6][7,11][8,10][12,17][13,14][15,16][18,24][20,23][21,22]'\n",
    "\n",
    "(x,qRP), V,t = Str2CP(mystr)\n",
    "N = 1 << t\n",
    "print('RP form:', CP2Str(qRP,V,N,CP=False)[1])\n",
    "for i in range(2):\n",
    "    qCP, V1 = CP2RP(qRP,V,t,CP=False, Vto=V) \n",
    "    print('CP form:', CP2Str(qCP,V,N,CP=True)[1])\n",
    "    qRP, V1 = CP2RP(qCP,V,t,CP=True, Vto=V)\n",
    "    print('RP form:', CP2Str(qRP,V,N,CP=False)[1])"
   ]
  }
 ],
 "metadata": {
  "kernelspec": {
   "display_name": "Python 3",
   "language": "python",
   "name": "python3"
  },
  "language_info": {
   "codemirror_mode": {
    "name": "ipython",
    "version": 3
   },
   "file_extension": ".py",
   "mimetype": "text/x-python",
   "name": "python",
   "nbconvert_exporter": "python",
   "pygments_lexer": "ipython3",
   "version": "3.10.4 (tags/v3.10.4:9d38120, Mar 23 2022, 23:13:41) [MSC v.1929 64 bit (AMD64)]"
  },
  "orig_nbformat": 4,
  "vscode": {
   "interpreter": {
    "hash": "2457cb1fc7fe65b67a8bfa8297ae36ac15699474b7b28a44eb2505adebb15336"
   }
  }
 },
 "nbformat": 4,
 "nbformat_minor": 2
}
