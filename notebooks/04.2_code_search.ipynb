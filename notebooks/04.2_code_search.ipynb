{
 "cells": [
  {
   "attachments": {},
   "cell_type": "markdown",
   "metadata": {},
   "source": [
    "# Generate CSS Code with Transversal Implementation of Desired Logical Operator \n",
    "\n",
    "This notebook illustrates the application of algorithm for finding CSS codes with a transversal implementation of a desired logical controlled phase operator via the embedded code method:\n",
    "    \n",
    "**Input:** \n",
    "\n",
    "- The desired logical operator $B$ in CP form\n",
    "- A target distance $d$ for the CSS code\n",
    "    \n",
    "**Output:** \n",
    "\n",
    "- A CSS code which has a logical $B$ operator composed of single-qubit phase gates based on a toric code of distance $d$\n",
    "\n",
    "Users can run the algorithm on a variety of target logical operators at various levels of the Clifford hierarchy. There are two modes - one which produces a code for a single distance $d$ and one which searches over a range of distances."
   ]
  },
  {
   "cell_type": "code",
   "execution_count": 2,
   "metadata": {},
   "outputs": [
    {
     "name": "stdout",
     "output_type": "stream",
     "text": [
      "d n xDist zDist\n",
      "2 8 3 2\n",
      "3 15 4 3\n",
      "4 16 4 4\n",
      "5 35 6 5\n",
      "6 48 7 6\n",
      "7 63 8 7\n",
      "8 64 8 8\n",
      "9 99 10 9\n",
      "10 120 11 10\n"
     ]
    }
   ],
   "source": [
    "from add_parent_dir import *\n",
    "from common import *\n",
    "from NSpace import *\n",
    "from clifford_LO import *\n",
    "import itertools as iter\n",
    "\n",
    "###########################\n",
    "## Level 2 operators\n",
    "###########################\n",
    "# target = 'S[0]'\n",
    "target = 'CZ[0,1]'\n",
    "\n",
    "###########################\n",
    "## Level 3 operators\n",
    "###########################\n",
    "# target = 'T[0]'\n",
    "# target = 'CS[0,1]'\n",
    "# target = 'CCZ[0,1,2]'\n",
    "\n",
    "###########################\n",
    "## Level 4 operators\n",
    "###########################\n",
    "# target = 'U[0]'\n",
    "# target = 'CT[0,1]'\n",
    "# target = 'CCS[0,1,2]'\n",
    "# target = 'CCCZ[0,1,2,3]'\n",
    "\n",
    "# d=8\n",
    "# codeSearch(target,d,debug=True)\n",
    "\n",
    "## search for target in a range of distances\n",
    "print(f'd n xDist zDist')\n",
    "for d in range(2,11):\n",
    "    codeSearch(target,d)"
   ]
  }
 ],
 "metadata": {
  "kernelspec": {
   "display_name": "Python 3",
   "language": "python",
   "name": "python3"
  },
  "language_info": {
   "codemirror_mode": {
    "name": "ipython",
    "version": 3
   },
   "file_extension": ".py",
   "mimetype": "text/x-python",
   "name": "python",
   "nbconvert_exporter": "python",
   "pygments_lexer": "ipython3",
   "version": "3.10.4"
  },
  "orig_nbformat": 4,
  "vscode": {
   "interpreter": {
    "hash": "2457cb1fc7fe65b67a8bfa8297ae36ac15699474b7b28a44eb2505adebb15336"
   }
  }
 },
 "nbformat": 4,
 "nbformat_minor": 2
}
