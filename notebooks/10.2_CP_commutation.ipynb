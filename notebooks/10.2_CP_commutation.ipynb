{
 "cells": [
  {
   "attachments": {},
   "cell_type": "markdown",
   "metadata": {},
   "source": [
    "# Commutation Relation of Controlled Phase Operators\n",
    "\n",
    "As an illustration of the  commutation relation for CP operators, we show how to conjugate controlled phase operators by strings of X operators and vice versa. \n",
    "\n",
    "We first compute $\\text{CS}_{01}X_1\\text{CS}_{01}^{-1}$:"
   ]
  },
  {
   "cell_type": "code",
   "execution_count": 1,
   "metadata": {},
   "outputs": [
    {
     "name": "stdout",
     "output_type": "stream",
     "text": [
      "\n",
      "Example 1: conjugate X_1 by CS_01\n",
      " CS[0,1]  X[1] I  CS3[0,1] =  X[1] S[0] CZ[0,1]\n"
     ]
    }
   ],
   "source": [
    "from add_parent_dir import *\n",
    "import numpy as np\n",
    "from common import * \n",
    "from XCP_algebra import *\n",
    "\n",
    "# level of Clifford hierarchy\n",
    "t = 3\n",
    "# precision of operators\n",
    "N = 1 << t\n",
    "# number of qubits\n",
    "n = 4\n",
    "\n",
    "print('\\nExample 1: conjugate X_1 by CS_01')\n",
    "CS, V, t = Str2CP('CS[0,1]',n,t)\n",
    "X1, V, t = Str2CP('X[1]',n,t)\n",
    "CS3, V, t = Str2CP('CS3[0,1]',n,t)\n",
    "C = XCPMul(XCPMul(CS,X1, V, N), CS3, V, N) \n",
    "print(XCP2Str(CS,V,N), XCP2Str(X1,V,N), XCP2Str(CS3,V,N), '=',  XCP2Str(C,V,N))\n",
    "\n",
    "# print('Clifford level CS:', CPlevel(CS[1],V,N))\n"
   ]
  },
  {
   "attachments": {},
   "cell_type": "markdown",
   "metadata": {},
   "source": [
    "We now compute $(X_0X_1X_2) \\text{CCZ}_{012} (X_0X_1X_2)^{-1}$:"
   ]
  },
  {
   "cell_type": "code",
   "execution_count": 2,
   "metadata": {},
   "outputs": [
    {
     "name": "stdout",
     "output_type": "stream",
     "text": [
      "\n",
      "Example 2: conjugate CCZ by X_012\n",
      " X[0][1][2] I  CCZ[0,1,2]  X[0][1][2] I = w1/2 Z[0][1][2] CZ[0,1][0,2][1,2] CCZ[0,1,2]\n"
     ]
    }
   ],
   "source": [
    "\n",
    "print('\\nExample 2: conjugate CCZ by X_012')\n",
    "CCZ, V, t = Str2CP('CCZ[0,1,2]',n,t)\n",
    "X012, V, t = Str2CP('X[0][1][2]',n,t)\n",
    "C = XCPMul(XCPMul(X012,CCZ, V, N), X012, V, N) \n",
    "print(XCP2Str(X012,V,N), XCP2Str(CCZ,V,N), XCP2Str(X012,V,N), '=',  XCP2Str(C,V,N))"
   ]
  }
 ],
 "metadata": {
  "kernelspec": {
   "display_name": "Python 3",
   "language": "python",
   "name": "python3"
  },
  "language_info": {
   "codemirror_mode": {
    "name": "ipython",
    "version": 3
   },
   "file_extension": ".py",
   "mimetype": "text/x-python",
   "name": "python",
   "nbconvert_exporter": "python",
   "pygments_lexer": "ipython3",
   "version": "3.10.4"
  },
  "orig_nbformat": 4,
  "vscode": {
   "interpreter": {
    "hash": "2457cb1fc7fe65b67a8bfa8297ae36ac15699474b7b28a44eb2505adebb15336"
   }
  }
 },
 "nbformat": 4,
 "nbformat_minor": 2
}
