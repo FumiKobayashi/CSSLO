{
 "cells": [
  {
   "cell_type": "markdown",
   "metadata": {},
   "source": [
    "# distance fitness functions\n",
    "\n",
    "In `distance.py`, there is an implementation of distance search.\n",
    "Here, let us try use it!\n",
    "\n",
    "At first, consider the liner graph state\n",
    "```mermaid\n",
    "graph LR\n",
    "    A((1)) --- B((2)) --- C((3))\n",
    "```\n",
    "\n",
    "This graph has stabilizer \n",
    "\n",
    "| Generator | Node 1 | Node 2 | Node 3 |\n",
    "|-----------|--------|--------|--------|\n",
    "| S1        | X      | Z      | I      |\n",
    "| S2        | Z      | X      | Z      |\n",
    "| S3        | I      | Z      | X      |\n",
    "\n",
    "\n",
    "distance function has input variables, which\n",
    "\n",
    "    - \n"
   ]
  },
  {
   "cell_type": "markdown",
   "metadata": {},
   "source": []
  },
  {
   "cell_type": "code",
   "execution_count": null,
   "metadata": {},
   "outputs": [],
   "source": [
    "import distance\n",
    "\n",
    "# stabilizer\n",
    "S = [\n",
    "    [\n",
    "]"
   ]
  }
 ],
 "metadata": {
  "language_info": {
   "name": "python"
  }
 },
 "nbformat": 4,
 "nbformat_minor": 2
}
