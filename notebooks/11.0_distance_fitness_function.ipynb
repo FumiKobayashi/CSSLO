{
 "cells": [
  {
   "cell_type": "markdown",
   "metadata": {},
   "source": [
    "# distance fitness functions\n",
    "\n",
    "In `distance.py`, there is an implementation of distance search.\n",
    "Here, let us try use it!\n",
    "\n",
    "\n",
    "`distGenetic`function in `distance.py` has input variables, which\n",
    "\n",
    "- `L` (numpy.ndarray): Logical Pauli basis in binary matrix form.\n",
    "        Each row represents one logical operator.\n",
    "        Shape: (k, n) where k is the number of logical operators and n is the code length.\n",
    "-  `S` (numpy.ndarray, optional): Stabilizer generators in binary matrix form.\n",
    "        Each row represents one stabilizer operator.\n",
    "        Shape: (r, n) where r is the number of stabilizer generators.\n",
    "        Defaults to None for classical codes.\n",
    "- `tB` (int, optional): Number of blocks.\n",
    "        Set to 1 for CSS or classical codes.\n",
    "        Set to 2 for non-CSS codes.\n",
    "        Defaults to 1.\n",
    "-  `pList` (list, optional): List of probabilities for X, Y, and Z errors.\n",
    "        Set to None for depolarizing noise.\n",
    "        Defaults to None.\n",
    "- `settgs` (dict, optional): Dictionary of algorithm settings.(explained a later section)\n",
    "\n",
    "\n",
    "First, let define 5-qubit code\n",
    "logical operators are\n"
   ]
  },
  {
   "cell_type": "code",
   "execution_count": 1,
   "metadata": {},
   "outputs": [],
   "source": [
    "import numpy as np\n",
    "\n",
    "from add_parent_dir import *\n",
    "from distance import distGenetic, distGeneticEvalInterface"
   ]
  },
  {
   "cell_type": "code",
   "execution_count": 2,
   "metadata": {},
   "outputs": [
    {
     "data": {
      "text/plain": [
       "array([[1, 1, 1, 1, 1, 0, 0, 0, 0, 0],\n",
       "       [0, 0, 0, 0, 0, 1, 1, 1, 1, 1]])"
      ]
     },
     "execution_count": 2,
     "metadata": {},
     "output_type": "execute_result"
    }
   ],
   "source": [
    "L = np.array([\n",
    "    [1,1,1,1,1, 0,0,0,0,0],\n",
    "    [0,0,0,0,0, 1,1,1,1,1]\n",
    "])\n",
    "\n",
    "L"
   ]
  },
  {
   "cell_type": "markdown",
   "metadata": {},
   "source": [
    "Stabilizer generators are"
   ]
  },
  {
   "cell_type": "code",
   "execution_count": 3,
   "metadata": {},
   "outputs": [
    {
     "data": {
      "text/plain": [
       "array([[1, 0, 0, 1, 0, 0, 1, 1, 0, 0],\n",
       "       [0, 1, 0, 0, 1, 0, 0, 1, 1, 0],\n",
       "       [1, 0, 1, 0, 0, 0, 0, 0, 1, 1],\n",
       "       [0, 1, 0, 1, 0, 1, 0, 0, 0, 1]])"
      ]
     },
     "execution_count": 3,
     "metadata": {},
     "output_type": "execute_result"
    }
   ],
   "source": [
    "S = np.array([\n",
    "    [1,0,0,1,0, 0,1,1,0,0],\n",
    "    [0,1,0,0,1, 0,0,1,1,0],\n",
    "    [1,0,1,0,0, 0,0,0,1,1],\n",
    "    [0,1,0,1,0, 1,0,0,0,1]\n",
    "])\n",
    "\n",
    "S"
   ]
  },
  {
   "cell_type": "markdown",
   "metadata": {},
   "source": [
    "Here, we'd like to treat non-CSS stabilizers.\n",
    "So let us set `tB=2`.\n",
    "\n",
    "plist is supposed to be depolarizing type noise `[0.001, 0.001, 0.001]`\n",
    "\n",
    "Settings requires parameters blow. \n",
    "\n",
    "- **`mu`**: Total population for each generation\n",
    "- **`lambmu`**: Ratio of offspring for each parent lambda to the total population mu\n",
    "- **`pMut`**: Mutation probability\n",
    "- **`sMut`**: Mutation standard deviation\n",
    "- **`genCount`**: Number of generations\n",
    "- **`tabuLength`**: A tabu list of the most recently explored individuals is maintained, and these are not revisited. `tabuLength` defines the size of this list\n",
    "- **`fast`**: Setting to make the algorithm run quickly by modifying the number of generations, population etc.\n",
    "\n",
    "Default Values\n",
    "\n",
    "```python\n",
    "defs = {\n",
    "    'lambmu': 3,\n",
    "    'mu': nB,\n",
    "    'pMut': 2 / nB,\n",
    "    'sMut': 1 / (nB * nB),\n",
    "    'genCount': 1 + int(np.log(nB)),\n",
    "    'tabuLength': nB,\n",
    "    'fast': True\n",
    "}\n",
    "```\n",
    "where `nB` represents the number of blocks (`n // tB`).\n",
    "\n",
    "To use this function as DistRand, we set `genCount=1` via advice from Mark Webstar."
   ]
  },
  {
   "cell_type": "code",
   "execution_count": 4,
   "metadata": {},
   "outputs": [],
   "source": [
    "tB = 2\n",
    "ratio = [1,1,1]\n",
    "probability = 0.001\n",
    "plist = np.array([1-probability] + [probability/3] * (2**tB-1))\n",
    "\n",
    "settings = {\n",
    "    'mu': 1,\n",
    "    'lambmu': 1,\n",
    "    'pMut': 0,\n",
    "    'sMut': 0,\n",
    "    'genCount': 0,\n",
    "    'fast': True\n",
    "}\n"
   ]
  },
  {
   "cell_type": "markdown",
   "metadata": {},
   "source": [
    "Run the function"
   ]
  },
  {
   "cell_type": "code",
   "execution_count": 5,
   "metadata": {},
   "outputs": [
    {
     "name": "stdout",
     "output_type": "stream",
     "text": [
      "[[1 1 0 0 1 1 0 0 0 0 1 1]\n",
      " [1 0 0 0 0 0 1 0 0 1 1 0]] [3.6963e-11 3.6963e-11]\n",
      "probList [array([3.6963e-11, 3.6963e-11])]\n",
      "LOList [array([[1, 1, 0, 0, 1, 1, 0, 0, 0, 0, 1, 1],\n",
      "       [1, 0, 0, 0, 0, 0, 1, 0, 0, 1, 1, 0]])]\n",
      "population [array([1, 3, 2, 0, 4])]\n"
     ]
    }
   ],
   "source": [
    "probList, LOList, population = distGeneticEvalInterface(L, S=S, tB=tB, pList=plist, settgs=settings)\n",
    "\n",
    "print(\n",
    "    \"probList\",\n",
    "    probList\n",
    ")\n",
    "print(\n",
    "    \"LOList\",\n",
    "    LOList\n",
    ")\n",
    "print(\n",
    "    \"population\",\n",
    "    population\n",
    ")\n"
   ]
  },
  {
   "cell_type": "code",
   "execution_count": 23,
   "metadata": {},
   "outputs": [
    {
     "data": {
      "text/plain": [
       "(np.float64(1.9960020000000004e-09),\n",
       " array([[0, 1, 1, 1, 0, 0, 0, 1, 0, 0],\n",
       "        [0, 0, 1, 0, 0, 0, 1, 0, 1, 0]]))"
      ]
     },
     "execution_count": 23,
     "metadata": {},
     "output_type": "execute_result"
    }
   ],
   "source": [
    "distGenetic(L, S=S, tB=tB, pList=plist, settgs=settings)"
   ]
  },
  {
   "cell_type": "markdown",
   "metadata": {},
   "source": [
    "## Experiment using Steane code\n",
    "\n",
    "| Generator | q1 | q2 | q3 | q4 | q5 | q6 | q7 |\n",
    "|-----------|----|----|----|----|----|----|----| \n",
    "| g1        | I  | I  | I  | X  | X  | X  | X  |\n",
    "| g2        | I  | X  | X  | I  | I  | X  | X  |\n",
    "| g3        | X  | I  | X  | I  | X  | I  | X  |\n",
    "| g4        | I  | I  | I  | Z  | Z  | Z  | Z  |\n",
    "| g5        | I  | Z  | Z  | I  | I  | Z  | Z  |\n",
    "| g6        | Z  | I  | Z  | I  | Z  | I  | Z  | \n",
    "| L1        | X  | X  | X  | X  | X  | X  | X  |\n",
    "| L2        | Z  | Z  | Z  | Z  | Z  | Z  | Z  |\n",
    "\n"
   ]
  },
  {
   "cell_type": "code",
   "execution_count": 37,
   "metadata": {},
   "outputs": [],
   "source": [
    "L_steane = np.array([\n",
    "    [1,1,1,1,1,1,1, 0,0,0,0,0,0,0],\n",
    "    [0,0,0,0,0,0,0, 1,1,1,1,1,1,1]\n",
    "])\n",
    "\n",
    "S_steane = np.array([\n",
    "        # g1: IIIXXX\n",
    "        [1,1,1,1,0,0,0, 0,0,0,0,0,0,0],\n",
    "        # g2: IXXIIXX  \n",
    "        [0,1,1,0,1,1,0, 0,0,0,0,0,0,0],\n",
    "        # g3: XIXIXIX\n",
    "        [0,0,1,1,0,1,1, 0,0,0,0,0,0,0],\n",
    "        # g4: IIIZZZ\n",
    "        [0,0,0,0,0,0,0, 1,1,1,1,0,0,0],\n",
    "        # g5: IZZIIZZ\n",
    "        [0,0,0,0,0,0,0, 0,1,1,0,1,1,0],\n",
    "        # g6: ZIZIZI\n",
    "        [0,0,0,0,0,0,0, 0,0,1,1,0,1,1]\n",
    "    ])"
   ]
  },
  {
   "cell_type": "code",
   "execution_count": 40,
   "metadata": {},
   "outputs": [
    {
     "data": {
      "text/plain": [
       "(np.float64(7.3778221926e-11),\n",
       " array([[1, 1, 0, 0, 1, 0, 0, 0, 0, 0, 0, 0, 0, 0],\n",
       "        [0, 0, 0, 0, 0, 0, 0, 1, 1, 0, 0, 1, 0, 0]]))"
      ]
     },
     "execution_count": 40,
     "metadata": {},
     "output_type": "execute_result"
    }
   ],
   "source": [
    "distGenetic(L_steane, S=S_steane, tB=tB, pList=plist, settgs=settings)"
   ]
  },
  {
   "cell_type": "markdown",
   "metadata": {},
   "source": []
  },
  {
   "cell_type": "markdown",
   "metadata": {},
   "source": [
    "## small Graph code case\n",
    "\n",
    "Consider the liner graph state\n",
    "```mermaid\n",
    "graph LR\n",
    "    A((1)) --- B((2)) --- C((3))\n",
    "```\n",
    "\n",
    "This graph has stabilizer \n",
    "\n",
    "| Generator | Node 1 | Node 2 | Node 3 |\n",
    "|-----------|--------|--------|--------|\n",
    "| S1        | X      | Z      | Z      |\n",
    "| S2        | Z      | X      | Z      |\n",
    "| S3        | Z      | Z      | X      |\n",
    "\n",
    "This graph can be seen the code\n",
    "\n",
    "| Generator | Node 1 | Node 2 |\n",
    "|-----------|--------|--------|\n",
    "| S1        | Y      | Y      |\n",
    "| LX        | Z      | Z      |\n",
    "| S3        | X      | Z      |\n",
    "\n",
    "Let evaluate it's error rate\n"
   ]
  },
  {
   "cell_type": "code",
   "execution_count": 28,
   "metadata": {},
   "outputs": [],
   "source": [
    "L_graph = np.array([\n",
    "    [0,0, 1,1],\n",
    "    [1,0, 0,1]\n",
    "])"
   ]
  },
  {
   "cell_type": "code",
   "execution_count": 29,
   "metadata": {},
   "outputs": [],
   "source": [
    "S_graph = np.array([\n",
    "    [1,1, 1,1],\n",
    "])"
   ]
  },
  {
   "cell_type": "code",
   "execution_count": null,
   "metadata": {},
   "outputs": [],
   "source": []
  },
  {
   "cell_type": "code",
   "execution_count": 30,
   "metadata": {},
   "outputs": [
    {
     "name": "stdout",
     "output_type": "stream",
     "text": [
      "probList [np.float64(0.001)]\n",
      "LOList [array([[0, 0, 1, 1, 1, 0],\n",
      "       [1, 0, 1, 0, 1, 1]])]\n",
      "population [array([1, 0])]\n"
     ]
    }
   ],
   "source": [
    "probList, LOList, population = distGeneticEvalInterface(L_graph, S=S_graph, tB=tB, pList=plist, settgs=settings)\n",
    "\n",
    "print(\n",
    "    \"probList\",\n",
    "    probList\n",
    ")\n",
    "print(\n",
    "    \"LOList\",\n",
    "    LOList\n",
    ")\n",
    "print(\n",
    "    \"population\",\n",
    "    population\n",
    ")"
   ]
  },
  {
   "cell_type": "code",
   "execution_count": 26,
   "metadata": {},
   "outputs": [
    {
     "data": {
      "text/plain": [
       "(np.float64(0.001),\n",
       " array([[0, 0, 1, 1],\n",
       "        [0, 1, 0, 1]]))"
      ]
     },
     "execution_count": 26,
     "metadata": {},
     "output_type": "execute_result"
    }
   ],
   "source": [
    "distGenetic(L, S=S, tB=tB, pList=plist, settgs=settings)"
   ]
  },
  {
   "cell_type": "markdown",
   "metadata": {},
   "source": []
  }
 ],
 "metadata": {
  "kernelspec": {
   "display_name": ".venv",
   "language": "python",
   "name": "python3"
  },
  "language_info": {
   "codemirror_mode": {
    "name": "ipython",
    "version": 3
   },
   "file_extension": ".py",
   "mimetype": "text/x-python",
   "name": "python",
   "nbconvert_exporter": "python",
   "pygments_lexer": "ipython3",
   "version": "3.12.10"
  }
 },
 "nbformat": 4,
 "nbformat_minor": 2
}
