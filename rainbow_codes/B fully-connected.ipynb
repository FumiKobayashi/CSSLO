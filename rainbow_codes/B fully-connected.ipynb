{
 "cells": [
  {
   "cell_type": "markdown",
   "metadata": {},
   "source": [
    "# B. Fully-Connected Graphs\n",
    "\n",
    "This notebook calculates the product of three fully-connected graphs using the mixed rainbow code construction."
   ]
  },
  {
   "cell_type": "code",
   "execution_count": 2,
   "metadata": {},
   "outputs": [
    {
     "name": "stdout",
     "output_type": "stream",
     "text": [
      "Binary Matrices in Product\n",
      "H_0\n",
      "1111\n",
      "1111\n",
      "1111\n",
      "1111\n",
      "H_1\n",
      "1111\n",
      "1111\n",
      "1111\n",
      "1111\n",
      "H_2\n",
      "1111\n",
      "1111\n",
      "1111\n",
      "1111\n"
     ]
    }
   ],
   "source": [
    "from add_parent_dir import *\n",
    "from common import *\n",
    "from NHow import *\n",
    "from CSSLO import *\n",
    "from flag_codes import *\n",
    "\n",
    "#################################################\n",
    "## Product Complex\n",
    "#################################################\n",
    "\n",
    "## Size of binary matrix\n",
    "L = 4\n",
    "## Number of binary matrices in product\n",
    "D = 3\n",
    "## H0 is a repetition code of length L\n",
    "H0 = repCode(L)\n",
    "\n",
    "## Product of H0 with nH1 copies of H1\n",
    "nH1 = 3\n",
    "\n",
    "## Various choices for H1\n",
    "## Figure 8 graph\n",
    "# H1 = figure8(L)\n",
    "## Circulant matrix\n",
    "# H1 = circulantMat([1]*4+[0])\n",
    "## Fully-connected graph\n",
    "H1 = np.ones((L,L),dtype=int)\n",
    "## Random binary matrix\n",
    "# H1 = BinMatRandom(L,L)\n",
    "\n",
    "HList = [H0] * (D-nH1) + [H1] * nH1\n",
    "\n",
    "print('Binary Matrices in Product')\n",
    "for i in range(len(HList)):\n",
    "    print(f'H_{i}')\n",
    "    print(ZMatPrint(HList[i]))\n",
    "\n",
    "C = productComplex(HList)\n",
    "\n",
    "## Uncomment to choose different types of flag code\n",
    "## Both SX and SZ are maximal subgraphs (as in Pin Codes paper)\n",
    "constrFun = Complex_to_Code_MSG\n",
    "## SX are maximal subgraphs and SZ are rainbow subgraphs\n",
    "# constrFun = Complex_to_Code_RSG\n",
    "## Mixed construction\n",
    "constrFun = Complex_to_Code_Mixed\n",
    "## edge-contractions\n",
    "# constrFun = Edge_Contraction_0\n",
    "# constrFun = Edge_Contraction_03\n",
    "\n",
    "res = analyseFlagCode(C,constrFun,calc_dist=False,coloured_logical_paulis=False,calc_LO=False)\n",
    "print(res)"
   ]
  }
 ],
 "metadata": {
  "kernelspec": {
   "display_name": "Python 3",
   "language": "python",
   "name": "python3"
  },
  "language_info": {
   "codemirror_mode": {
    "name": "ipython",
    "version": 3
   },
   "file_extension": ".py",
   "mimetype": "text/x-python",
   "name": "python",
   "nbconvert_exporter": "python",
   "pygments_lexer": "ipython3",
   "version": "3.12.1"
  }
 },
 "nbformat": 4,
 "nbformat_minor": 2
}
